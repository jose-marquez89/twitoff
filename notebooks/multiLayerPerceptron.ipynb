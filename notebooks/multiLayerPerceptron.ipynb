{
 "cells": [
  {
   "cell_type": "code",
   "execution_count": null,
   "metadata": {},
   "outputs": [],
   "source": [
    "from ..TwitOff.basilica_service import basiliconn\n",
    "\n",
    "\n",
    "# TODO: get X and y to populate\n",
    "# TODO: compare accuracy of logistic regression and multilayer perceptron\n",
    "\n",
    "basilica = basiliconn()\n",
    "\n",
    "# compare a simple MLP and logistic regression\n",
    "\n",
    "# populate this with tweets and originator labels\n",
    "X = []\n",
    "y = []\n",
    "\n",
    "\n",
    "for tweet in user_a.tweets:\n",
    "    y.append(user_a.screen_name)\n",
    "    X.append(tweet.embedding)\n",
    "\n",
    "for tweet in user_b.tweets:\n",
    "    y.append(user_b.screen_name)\n",
    "    X.append(tweet.embedding)\n",
    "\n",
    "    classifier = LogisticRegression()\n",
    "    classifier.fit(X, y)\n",
    "\n",
    "    embedded_tweet = basilica.embed_sentence(tweet_text)\n",
    "    prediction = classifier.predict([embedded_tweet])\n"
   ]
  }
 ],
 "metadata": {
  "kernelspec": {
   "display_name": "TensorFlow (python 3)",
   "language": "python",
   "name": "tensorflow"
  },
  "language_info": {
   "codemirror_mode": {
    "name": "ipython",
    "version": 3
   },
   "file_extension": ".py",
   "mimetype": "text/x-python",
   "name": "python",
   "nbconvert_exporter": "python",
   "pygments_lexer": "ipython3",
   "version": "3.7.0"
  }
 },
 "nbformat": 4,
 "nbformat_minor": 4
}
